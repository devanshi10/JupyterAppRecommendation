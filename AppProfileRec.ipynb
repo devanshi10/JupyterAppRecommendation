{
 "cells": [
  {
   "cell_type": "markdown",
   "id": "a0fb5471-4252-46f1-8883-a38250e6fac8",
   "metadata": {
    "tags": []
   },
   "source": [
    "# **App Profile Recommendation**\n",
    "\n",
    "*We only build apps that are free to download and install, and our main source of revenue consists of in-app ads. This means that the number of users of our apps determines our revenue for any given app — the more users who see and engage with the ads, the better. Our goal for this project is to analyze data to help our developers understand what type of apps are likely to attract more users.*"
   ]
  },
  {
   "cell_type": "code",
   "execution_count": 6,
   "id": "3d20e0ce-a4df-4ded-80eb-377e1bf50637",
   "metadata": {},
   "outputs": [],
   "source": [
    "from csv import reader\n",
    "with open('AppRecommendation/AppleStore.csv') as iosFile:\n",
    "    iosReader = reader(iosFile)\n",
    "    ios = list(iosReader)\n",
    "    iosHeader = ios[0]\n",
    "    ios = ios[1:]\n",
    "    \n",
    "with open('AppRecommendation/googleplaystore.csv') as androidFile:\n",
    "    androidReader = reader(androidFile)\n",
    "    android = list(androidReader)\n",
    "    androidHeader = android[0]\n",
    "    android = android[1:]"
   ]
  },
  {
   "cell_type": "code",
   "execution_count": 7,
   "id": "eafc4bda-dba5-4677-be32-1774bdcb0a99",
   "metadata": {},
   "outputs": [],
   "source": [
    "def explore_data(dataset, start, end, rows_and_columns=False):\n",
    "    dataset_slice = dataset[start:end]    \n",
    "    for row in dataset_slice:\n",
    "        print(row)\n",
    "        print('\\n') # adds a new (empty) line after each row\n",
    "\n",
    "    if rows_and_columns:\n",
    "        print('Number of rows:', len(dataset))\n",
    "        print('Number of columns:', len(dataset[0]))"
   ]
  },
  {
   "cell_type": "markdown",
   "id": "14aa08e8-d016-4c2f-a419-184b7d78c8f0",
   "metadata": {},
   "source": [
    "Ios data set documentation:\n",
    "https://dq-content.s3.amazonaws.com/350/googleplaystore.csv"
   ]
  },
  {
   "cell_type": "code",
   "execution_count": 8,
   "id": "eb139850-b2c4-4efa-82bb-22da2100fff8",
   "metadata": {},
   "outputs": [
    {
     "name": "stdout",
     "output_type": "stream",
     "text": [
      "['id', 'track_name', 'size_bytes', 'currency', 'price', 'rating_count_tot', 'rating_count_ver', 'user_rating', 'user_rating_ver', 'ver', 'cont_rating', 'prime_genre', 'sup_devices.num', 'ipadSc_urls.num', 'lang.num', 'vpp_lic']\n",
      "\n",
      "\n",
      "['284882215', 'Facebook', '389879808', 'USD', '0.0', '2974676', '212', '3.5', '3.5', '95.0', '4+', 'Social Networking', '37', '1', '29', '1']\n",
      "\n",
      "\n",
      "['389801252', 'Instagram', '113954816', 'USD', '0.0', '2161558', '1289', '4.5', '4.0', '10.23', '12+', 'Photo & Video', '37', '0', '29', '1']\n",
      "\n",
      "\n",
      "['529479190', 'Clash of Clans', '116476928', 'USD', '0.0', '2130805', '579', '4.5', '4.5', '9.24.12', '9+', 'Games', '38', '5', '18', '1']\n",
      "\n",
      "\n",
      "['420009108', 'Temple Run', '65921024', 'USD', '0.0', '1724546', '3842', '4.5', '4.0', '1.6.2', '9+', 'Games', '40', '5', '1', '1']\n",
      "\n",
      "\n",
      "['284035177', 'Pandora - Music & Radio', '130242560', 'USD', '0.0', '1126879', '3594', '4.0', '4.5', '8.4.1', '12+', 'Music', '37', '4', '1', '1']\n",
      "\n",
      "\n",
      "Number of rows: 7197\n",
      "Number of columns: 16\n"
     ]
    }
   ],
   "source": [
    "print(iosHeader)\n",
    "print('\\n')\n",
    "explore_data(ios, 0, 5, True)"
   ]
  },
  {
   "cell_type": "markdown",
   "id": "401d8a50-05ac-4247-820f-5a3a440c8d09",
   "metadata": {},
   "source": [
    "Android data set documentation:\n",
    "https://dq-content.s3.amazonaws.com/350/AppleStore.csv"
   ]
  },
  {
   "cell_type": "code",
   "execution_count": 9,
   "id": "ea0a6881-27f4-4d8b-bf31-8d0f6dbde3d1",
   "metadata": {},
   "outputs": [
    {
     "name": "stdout",
     "output_type": "stream",
     "text": [
      "['App', 'Category', 'Rating', 'Reviews', 'Size', 'Installs', 'Type', 'Price', 'Content Rating', 'Genres', 'Last Updated', 'Current Ver', 'Android Ver']\n",
      "\n",
      "\n",
      "['Photo Editor & Candy Camera & Grid & ScrapBook', 'ART_AND_DESIGN', '4.1', '159', '19M', '10,000+', 'Free', '0', 'Everyone', 'Art & Design', 'January 7, 2018', '1.0.0', '4.0.3 and up']\n",
      "\n",
      "\n",
      "['Coloring book moana', 'ART_AND_DESIGN', '3.9', '967', '14M', '500,000+', 'Free', '0', 'Everyone', 'Art & Design;Pretend Play', 'January 15, 2018', '2.0.0', '4.0.3 and up']\n",
      "\n",
      "\n",
      "['U Launcher Lite – FREE Live Cool Themes, Hide Apps', 'ART_AND_DESIGN', '4.7', '87510', '8.7M', '5,000,000+', 'Free', '0', 'Everyone', 'Art & Design', 'August 1, 2018', '1.2.4', '4.0.3 and up']\n",
      "\n",
      "\n",
      "['Sketch - Draw & Paint', 'ART_AND_DESIGN', '4.5', '215644', '25M', '50,000,000+', 'Free', '0', 'Teen', 'Art & Design', 'June 8, 2018', 'Varies with device', '4.2 and up']\n",
      "\n",
      "\n",
      "['Pixel Draw - Number Art Coloring Book', 'ART_AND_DESIGN', '4.3', '967', '2.8M', '100,000+', 'Free', '0', 'Everyone', 'Art & Design;Creativity', 'June 20, 2018', '1.1', '4.4 and up']\n",
      "\n",
      "\n",
      "Number of rows: 10841\n",
      "Number of columns: 13\n"
     ]
    }
   ],
   "source": [
    "print(androidHeader)\n",
    "print('\\n')\n",
    "explore_data(android, 0, 5, True)"
   ]
  },
  {
   "cell_type": "code",
   "execution_count": 10,
   "id": "7c8f52db-e8d2-4521-95ba-fd22962d59bc",
   "metadata": {},
   "outputs": [
    {
     "name": "stdout",
     "output_type": "stream",
     "text": [
      "['Life Made WI-Fi Touchscreen Photo Frame', '1.9', '19', '3.0M', '1,000+', 'Free', '0', 'Everyone', '', 'February 11, 2018', '1.0.19', '4.0 and up']\n"
     ]
    }
   ],
   "source": [
    "print(android[10472]) #wrong entry\n",
    "del android[10472]"
   ]
  },
  {
   "cell_type": "markdown",
   "id": "f51bc7f2-4115-4a4e-a262-dddaf69f6cc0",
   "metadata": {},
   "source": [
    "# Duplicates"
   ]
  },
  {
   "cell_type": "markdown",
   "id": "f2e79554-a61a-44be-8d46-128aa24a44e3",
   "metadata": {},
   "source": [
    "Google play store dataset has multiple entries of the same app. For instance,"
   ]
  },
  {
   "cell_type": "code",
   "execution_count": 11,
   "id": "6f3e8bdb-ddaf-4c1a-86ca-74f8f4681467",
   "metadata": {},
   "outputs": [
    {
     "name": "stdout",
     "output_type": "stream",
     "text": [
      "['Instagram', 'SOCIAL', '4.5', '66577313', 'Varies with device', '1,000,000,000+', 'Free', '0', 'Teen', 'Social', 'July 31, 2018', 'Varies with device', 'Varies with device'] \n",
      "\n",
      "['Instagram', 'SOCIAL', '4.5', '66577446', 'Varies with device', '1,000,000,000+', 'Free', '0', 'Teen', 'Social', 'July 31, 2018', 'Varies with device', 'Varies with device'] \n",
      "\n",
      "['Instagram', 'SOCIAL', '4.5', '66577313', 'Varies with device', '1,000,000,000+', 'Free', '0', 'Teen', 'Social', 'July 31, 2018', 'Varies with device', 'Varies with device'] \n",
      "\n",
      "['Instagram', 'SOCIAL', '4.5', '66509917', 'Varies with device', '1,000,000,000+', 'Free', '0', 'Teen', 'Social', 'July 31, 2018', 'Varies with device', 'Varies with device'] \n",
      "\n"
     ]
    }
   ],
   "source": [
    "for entry in android:\n",
    "    app = entry[0]\n",
    "    if app == \"Instagram\":\n",
    "        print(entry, '\\n')"
   ]
  },
  {
   "cell_type": "code",
   "execution_count": 12,
   "id": "687da0ff-7326-4096-a293-be045b58cb88",
   "metadata": {},
   "outputs": [
    {
     "name": "stdout",
     "output_type": "stream",
     "text": [
      "Number of duplicates: 1181\n"
     ]
    }
   ],
   "source": [
    "unique = []\n",
    "duplicates = []\n",
    "for entry in android:\n",
    "    app = entry[0]\n",
    "    if app not in unique:\n",
    "        unique.append(app)\n",
    "    else:\n",
    "        duplicates.append(app)\n",
    "print(\"Number of duplicates:\",len(duplicates))"
   ]
  },
  {
   "cell_type": "markdown",
   "id": "e1de9bee-deeb-4685-b742-f8a849886eca",
   "metadata": {},
   "source": [
    "Duplicates will not be removed randomly. Instead, the row with highest number of reviews would be kept as that would imply that it is the latest entry."
   ]
  },
  {
   "cell_type": "markdown",
   "id": "9b2f4c50-7a26-40ea-a093-bdcf305faf26",
   "metadata": {},
   "source": [
    "**Putting highest no. of reviews of each app in a dictionary**\n",
    "* Checking if name is in the dictionary as a key and if it has more no. of reviews than the dictionary value to *update the no. of reviews in the dictionary.*\n",
    "* Checking if name is not in the dictionary as a key to *add the name as the key and no. of reviews as the value in the dictionay.*"
   ]
  },
  {
   "cell_type": "code",
   "execution_count": 13,
   "id": "ae3a7e49-444c-4447-a439-52ff2d93b3fd",
   "metadata": {},
   "outputs": [
    {
     "name": "stdout",
     "output_type": "stream",
     "text": [
      "Length of dictionary: 9659\n"
     ]
    }
   ],
   "source": [
    "reviews_max = {}\n",
    "for entry in android:\n",
    "    name = entry[0]\n",
    "    n_reviews = float(entry[3])\n",
    "    if name in reviews_max and reviews_max[name] < n_reviews:\n",
    "        n_reviews = reviews_max\n",
    "    elif name not in reviews_max:\n",
    "        reviews_max[name] = n_reviews\n",
    "print(\"Length of dictionary:\",len(reviews_max))"
   ]
  },
  {
   "cell_type": "markdown",
   "id": "c4398eeb-25be-4ce4-8e49-f3d2d6052f7d",
   "metadata": {},
   "source": [
    "\n",
    "**Now, let's use the reviews_max dictionary to remove the duplicates. For the duplicate cases, we'll only keep the entries with the highest number of reviews. In the code cell below:**\n",
    "\n",
    "* We start by initializing two empty lists, android_clean and already_added.\n",
    "* We loop through the android data set, and for every iteration:\n",
    "    * We isolate the name of the app and the number of reviews.\n",
    "    * We add the current row (app) to the android_clean list, and the app name (name) to the already_added list if:\n",
    "        * The number of reviews of the current app matches the number of reviews of that app as described in the reviews_max             dictionary; and\n",
    "        * The name of the app is not already in the already_added list. We need to add this supplementary condition to account           for those cases where the highest number of reviews of a duplicate app is the same for more than one entry.\n"
   ]
  },
  {
   "cell_type": "code",
   "execution_count": 14,
   "id": "8acb5d4b-b879-4315-a65f-4fee5ba2d3f9",
   "metadata": {},
   "outputs": [
    {
     "name": "stdout",
     "output_type": "stream",
     "text": [
      "Length of clean dataset: 9659\n"
     ]
    }
   ],
   "source": [
    "android_clean = []\n",
    "already_added = []\n",
    "for entry in android:\n",
    "    name = entry[0]\n",
    "    n_reviews = float(entry[3])\n",
    "    if (n_reviews == reviews_max[name]) and (name not in already_added):\n",
    "        android_clean.append(entry)\n",
    "        already_added.append(name)\n",
    "print(\"Length of clean dataset:\",len(android_clean))"
   ]
  },
  {
   "cell_type": "markdown",
   "id": "5b817b18-e641-4856-b3af-d6541162f83e",
   "metadata": {},
   "source": [
    "# Detecting non-English apps"
   ]
  },
  {
   "cell_type": "code",
   "execution_count": 19,
   "id": "ea6c0908-9c9e-4984-9a57-bd24ae7c3906",
   "metadata": {},
   "outputs": [
    {
     "data": {
      "text/plain": [
       "True"
      ]
     },
     "execution_count": 19,
     "metadata": {},
     "output_type": "execute_result"
    }
   ],
   "source": [
    "def nonEnglishApps(inputString):\n",
    "    countSpecial = 0\n",
    "    for character in inputString:\n",
    "        if ord(character) > 127:\n",
    "            countSpecial += 1\n",
    "    if countSpecial > 3:\n",
    "        return False\n",
    "    else:\n",
    "        return True\n",
    "\n",
    "nonEnglishApps('Instachat 😜')"
   ]
  },
  {
   "cell_type": "code",
   "execution_count": 20,
   "id": "84879861-c889-4cc8-9360-dcd4cf79b367",
   "metadata": {},
   "outputs": [
    {
     "name": "stdout",
     "output_type": "stream",
     "text": [
      "['284882215', 'Facebook', '389879808', 'USD', '0.0', '2974676', '212', '3.5', '3.5', '95.0', '4+', 'Social Networking', '37', '1', '29', '1']\n",
      "\n",
      "\n",
      "['389801252', 'Instagram', '113954816', 'USD', '0.0', '2161558', '1289', '4.5', '4.0', '10.23', '12+', 'Photo & Video', '37', '0', '29', '1']\n",
      "\n",
      "\n",
      "['529479190', 'Clash of Clans', '116476928', 'USD', '0.0', '2130805', '579', '4.5', '4.5', '9.24.12', '9+', 'Games', '38', '5', '18', '1']\n",
      "\n",
      "\n",
      "Number of rows: 6183\n",
      "Number of columns: 16\n",
      "\n",
      "\n",
      "['Photo Editor & Candy Camera & Grid & ScrapBook', 'ART_AND_DESIGN', '4.1', '159', '19M', '10,000+', 'Free', '0', 'Everyone', 'Art & Design', 'January 7, 2018', '1.0.0', '4.0.3 and up']\n",
      "\n",
      "\n",
      "['Coloring book moana', 'ART_AND_DESIGN', '3.9', '967', '14M', '500,000+', 'Free', '0', 'Everyone', 'Art & Design;Pretend Play', 'January 15, 2018', '2.0.0', '4.0.3 and up']\n",
      "\n",
      "\n",
      "['U Launcher Lite – FREE Live Cool Themes, Hide Apps', 'ART_AND_DESIGN', '4.7', '87510', '8.7M', '5,000,000+', 'Free', '0', 'Everyone', 'Art & Design', 'August 1, 2018', '1.2.4', '4.0.3 and up']\n",
      "\n",
      "\n",
      "Number of rows: 9614\n",
      "Number of columns: 13\n"
     ]
    }
   ],
   "source": [
    "ios_English = []\n",
    "android_English = []\n",
    "\n",
    "for entry in ios:\n",
    "    name = entry[1]\n",
    "    if nonEnglishApps(name):\n",
    "        ios_English.append(entry)\n",
    "        \n",
    "for entry in android_clean:\n",
    "    name = entry[0]\n",
    "    if nonEnglishApps(name):\n",
    "        android_English.append(entry)\n",
    "        \n",
    "explore_data(ios_English, 0, 3, True)\n",
    "print(\"\\n\")\n",
    "explore_data(android_English, 0, 3, True)\n",
    "\n",
    "        \n"
   ]
  },
  {
   "cell_type": "markdown",
   "id": "d12c7e06-2d8c-403c-ae97-d8745ffaba35",
   "metadata": {},
   "source": [
    "# Isolate Free Apps"
   ]
  },
  {
   "cell_type": "code",
   "execution_count": 29,
   "id": "f21170fd-73a5-46ce-9a16-c7333509ed18",
   "metadata": {},
   "outputs": [
    {
     "name": "stdout",
     "output_type": "stream",
     "text": [
      "Ios Length:\n",
      "Number of rows: 3222\n",
      "Number of columns: 16\n",
      "\n",
      "Android Length:\n",
      "Number of rows: 8862\n",
      "Number of columns: 13\n"
     ]
    }
   ],
   "source": [
    "ios_free = []\n",
    "android_free = []\n",
    "for entry in ios_English:\n",
    "    price = entry[4]\n",
    "    if price == \"0.0\":\n",
    "        ios_free.append(entry)\n",
    "        \n",
    "for entry in android_English:\n",
    "    price = entry[7]\n",
    "    if price == \"0\" :\n",
    "        android_free.append(entry)\n",
    "print(\"Ios Length:\")        \n",
    "explore_data(ios_free,0,0,True)\n",
    "print(\"\\nAndroid Length:\")\n",
    "explore_data(android_free,0,0,True)"
   ]
  },
  {
   "cell_type": "markdown",
   "id": "81c9f2bc-4c1b-4475-8dc6-a43261f393d9",
   "metadata": {},
   "source": [
    "**To minimize risks and overhead, our validation strategy for an app idea has three steps:**\n",
    "* Build a minimal Android version of the app, and add it to Google Play.\n",
    "* If the app has a good response from users, we develop it further.\n",
    "* If the app is profitable after six months, we build an iOS version of the app and add it to the App Store.\n",
    "\n",
    "Because our end goal is to add the app on both Google Play and the App Store, we need to find app profiles that are successful in both markets. "
   ]
  },
  {
   "cell_type": "code",
   "execution_count": 30,
   "id": "7518046c-36d1-4f55-aa74-81445a42142e",
   "metadata": {},
   "outputs": [],
   "source": [
    "def freq_table(dataset, index):\n",
    "    table = {}\n",
    "    total = 0\n",
    "    for entry in dataset:\n",
    "        total+=1\n",
    "        value = entry[index]\n",
    "        if value not in table:\n",
    "            table[value] = 1\n",
    "        else:\n",
    "            table[value] += 1\n",
    "            \n",
    "    table_perc = {}\n",
    "    for key in table:\n",
    "        percentage = (table[key]/total)*100\n",
    "        table_perc[key] = percentage\n",
    "    return table_perc\n",
    "    \n"
   ]
  },
  {
   "cell_type": "code",
   "execution_count": 31,
   "id": "91d86295-06d7-4854-bc07-9202badadcae",
   "metadata": {},
   "outputs": [],
   "source": [
    "def display_table(dataset, index):\n",
    "    table = freq_table(dataset, index)\n",
    "    table_display = []\n",
    "    for key in table:\n",
    "        key_val_as_tuple = (table[key], key)\n",
    "        table_display.append(key_val_as_tuple)\n",
    "\n",
    "    table_sorted = sorted(table_display, reverse = True)\n",
    "    for entry in table_sorted:\n",
    "        print(entry[1], ':', entry[0])"
   ]
  },
  {
   "cell_type": "code",
   "execution_count": 32,
   "id": "0fc344a5-28ce-4d9c-be3d-6d1f83a2cda2",
   "metadata": {},
   "outputs": [
    {
     "name": "stdout",
     "output_type": "stream",
     "text": [
      "Games : 58.16263190564867\n",
      "Entertainment : 7.883302296710118\n",
      "Photo & Video : 4.9658597144630665\n",
      "Education : 3.662321539416512\n",
      "Social Networking : 3.2898820608317814\n",
      "Shopping : 2.60707635009311\n",
      "Utilities : 2.5139664804469275\n",
      "Sports : 2.1415270018621975\n",
      "Music : 2.0484171322160147\n",
      "Health & Fitness : 2.0173805090006205\n",
      "Productivity : 1.7380509000620732\n",
      "Lifestyle : 1.5828677839851024\n",
      "News : 1.3345747982619491\n",
      "Travel : 1.2414649286157666\n",
      "Finance : 1.1173184357541899\n",
      "Weather : 0.8690254500310366\n",
      "Food & Drink : 0.8069522036002483\n",
      "Reference : 0.5586592178770949\n",
      "Business : 0.5276225946617008\n",
      "Book : 0.4345127250155183\n",
      "Navigation : 0.186219739292365\n",
      "Medical : 0.186219739292365\n",
      "Catalogs : 0.12414649286157665\n"
     ]
    }
   ],
   "source": [
    "display_table(ios_free, 11)"
   ]
  },
  {
   "cell_type": "markdown",
   "id": "8a9eb55b-a8ed-40b1-81e8-4e0e971d8d85",
   "metadata": {},
   "source": [
    "* Most common genre: Games, Next most common genre: Entertainment\n",
    "* More apps for entertainment purposes"
   ]
  },
  {
   "cell_type": "markdown",
   "id": "5aa761f8-2af1-4433-82e9-bb240bc2797c",
   "metadata": {},
   "source": [
    "**Category column**"
   ]
  },
  {
   "cell_type": "code",
   "execution_count": 40,
   "id": "0336acde-ba0b-4389-a4e3-f0ff66fbd300",
   "metadata": {},
   "outputs": [
    {
     "name": "stdout",
     "output_type": "stream",
     "text": [
      "FAMILY : 18.449559918754233\n",
      "GAME : 9.873617693522906\n",
      "TOOLS : 8.440532611148726\n",
      "BUSINESS : 4.5926427443015125\n",
      "LIFESTYLE : 3.9043105393816293\n",
      "PRODUCTIVITY : 3.8930264048747465\n",
      "FINANCE : 3.7011961182577298\n",
      "MEDICAL : 3.5206499661475967\n",
      "SPORTS : 3.39652448657188\n",
      "PERSONALIZATION : 3.3175355450236967\n",
      "COMMUNICATION : 3.238546603475513\n",
      "HEALTH_AND_FITNESS : 3.080568720379147\n",
      "PHOTOGRAPHY : 2.945159106296547\n",
      "NEWS_AND_MAGAZINES : 2.798465357707064\n",
      "SOCIAL : 2.663055743624464\n",
      "TRAVEL_AND_LOCAL : 2.335815842924848\n",
      "SHOPPING : 2.2455427668697814\n",
      "BOOKS_AND_REFERENCE : 2.143985556307831\n",
      "DATING : 1.8618821936357481\n",
      "VIDEO_PLAYERS : 1.782893252087565\n",
      "MAPS_AND_NAVIGATION : 1.399232678853532\n",
      "EDUCATION : 1.2863913337846988\n",
      "FOOD_AND_DRINK : 1.2412547957571656\n",
      "ENTERTAINMENT : 1.128413450688332\n",
      "LIBRARIES_AND_DEMO : 0.9365831640713158\n",
      "AUTO_AND_VEHICLES : 0.9252990295644324\n",
      "HOUSE_AND_HOME : 0.8350259535093659\n",
      "WEATHER : 0.8011735499887158\n",
      "EVENTS : 0.7109004739336493\n",
      "ART_AND_DESIGN : 0.6770480704129994\n",
      "PARENTING : 0.6544798013992327\n",
      "COMICS : 0.6206273978785828\n",
      "BEAUTY : 0.598059128864816\n"
     ]
    }
   ],
   "source": [
    "display_table(android_free, 1)"
   ]
  },
  {
   "cell_type": "markdown",
   "id": "3c553d21-133d-4194-8bcc-ebb4c271e631",
   "metadata": {},
   "source": [
    "**Genres column:**"
   ]
  },
  {
   "cell_type": "code",
   "execution_count": 41,
   "id": "b011aadc-f519-40b9-8879-4767fe81276f",
   "metadata": {},
   "outputs": [
    {
     "name": "stdout",
     "output_type": "stream",
     "text": [
      "Tools : 8.429248476641842\n",
      "Entertainment : 6.070864364703228\n",
      "Education : 5.348679756262695\n",
      "Business : 4.5926427443015125\n",
      "Productivity : 3.8930264048747465\n",
      "Lifestyle : 3.8930264048747465\n",
      "Finance : 3.7011961182577298\n",
      "Medical : 3.5206499661475967\n",
      "Sports : 3.4642292936131795\n",
      "Personalization : 3.3175355450236967\n",
      "Communication : 3.238546603475513\n",
      "Action : 3.1031369893929135\n",
      "Health & Fitness : 3.080568720379147\n",
      "Photography : 2.945159106296547\n",
      "News & Magazines : 2.798465357707064\n",
      "Social : 2.663055743624464\n",
      "Travel & Local : 2.324531708417964\n",
      "Shopping : 2.2455427668697814\n",
      "Books & Reference : 2.143985556307831\n",
      "Simulation : 2.0424283457458814\n",
      "Dating : 1.8618821936357481\n",
      "Arcade : 1.8505980591288649\n",
      "Video Players & Editors : 1.7716091175806816\n",
      "Casual : 1.7603249830737984\n",
      "Maps & Navigation : 1.399232678853532\n",
      "Food & Drink : 1.2412547957571656\n",
      "Puzzle : 1.128413450688332\n",
      "Racing : 0.9930038366057323\n",
      "Role Playing : 0.9365831640713158\n",
      "Libraries & Demo : 0.9365831640713158\n",
      "Auto & Vehicles : 0.9252990295644324\n",
      "Strategy : 0.9140148950575491\n",
      "House & Home : 0.8350259535093659\n",
      "Weather : 0.8011735499887158\n",
      "Events : 0.7109004739336493\n",
      "Adventure : 0.6770480704129994\n",
      "Comics : 0.6093432633716994\n",
      "Beauty : 0.598059128864816\n",
      "Art & Design : 0.598059128864816\n",
      "Parenting : 0.49650191830286616\n",
      "Card : 0.45136538027533285\n",
      "Casino : 0.4287971112615662\n",
      "Trivia : 0.41751297675468296\n",
      "Educational;Education : 0.3949447077409162\n",
      "Educational : 0.3723764387271496\n",
      "Board : 0.3723764387271496\n",
      "Education;Education : 0.3385240352064997\n",
      "Word : 0.2595350936583164\n",
      "Casual;Pretend Play : 0.23696682464454977\n",
      "Music : 0.2031144211238998\n",
      "Racing;Action & Adventure : 0.16926201760324985\n",
      "Puzzle;Brain Games : 0.16926201760324985\n",
      "Entertainment;Music & Video : 0.16926201760324985\n",
      "Casual;Brain Games : 0.13540961408259986\n",
      "Casual;Action & Adventure : 0.13540961408259986\n",
      "Arcade;Action & Adventure : 0.12412547957571654\n",
      "Action;Action & Adventure : 0.1015572105619499\n",
      "Educational;Pretend Play : 0.09027307605506657\n",
      "Board;Brain Games : 0.09027307605506657\n",
      "Simulation;Action & Adventure : 0.07898894154818326\n",
      "Parenting;Education : 0.07898894154818326\n",
      "Entertainment;Brain Games : 0.07898894154818326\n",
      "Parenting;Music & Video : 0.06770480704129993\n",
      "Educational;Brain Games : 0.06770480704129993\n",
      "Casual;Creativity : 0.06770480704129993\n",
      "Art & Design;Creativity : 0.06770480704129993\n",
      "Education;Pretend Play : 0.056420672534416606\n",
      "Role Playing;Pretend Play : 0.045136538027533285\n",
      "Education;Creativity : 0.045136538027533285\n",
      "Role Playing;Action & Adventure : 0.033852403520649964\n",
      "Puzzle;Action & Adventure : 0.033852403520649964\n",
      "Entertainment;Creativity : 0.033852403520649964\n",
      "Entertainment;Action & Adventure : 0.033852403520649964\n",
      "Educational;Creativity : 0.033852403520649964\n",
      "Educational;Action & Adventure : 0.033852403520649964\n",
      "Education;Music & Video : 0.033852403520649964\n",
      "Education;Brain Games : 0.033852403520649964\n",
      "Education;Action & Adventure : 0.033852403520649964\n",
      "Adventure;Action & Adventure : 0.033852403520649964\n",
      "Video Players & Editors;Music & Video : 0.022568269013766643\n",
      "Sports;Action & Adventure : 0.022568269013766643\n",
      "Simulation;Pretend Play : 0.022568269013766643\n",
      "Puzzle;Creativity : 0.022568269013766643\n",
      "Music;Music & Video : 0.022568269013766643\n",
      "Entertainment;Pretend Play : 0.022568269013766643\n",
      "Casual;Education : 0.022568269013766643\n",
      "Board;Action & Adventure : 0.022568269013766643\n",
      "Video Players & Editors;Creativity : 0.011284134506883321\n",
      "Trivia;Education : 0.011284134506883321\n",
      "Travel & Local;Action & Adventure : 0.011284134506883321\n",
      "Tools;Education : 0.011284134506883321\n",
      "Strategy;Education : 0.011284134506883321\n",
      "Strategy;Creativity : 0.011284134506883321\n",
      "Strategy;Action & Adventure : 0.011284134506883321\n",
      "Simulation;Education : 0.011284134506883321\n",
      "Role Playing;Brain Games : 0.011284134506883321\n",
      "Racing;Pretend Play : 0.011284134506883321\n",
      "Puzzle;Education : 0.011284134506883321\n",
      "Parenting;Brain Games : 0.011284134506883321\n",
      "Music & Audio;Music & Video : 0.011284134506883321\n",
      "Lifestyle;Pretend Play : 0.011284134506883321\n",
      "Lifestyle;Education : 0.011284134506883321\n",
      "Health & Fitness;Education : 0.011284134506883321\n",
      "Health & Fitness;Action & Adventure : 0.011284134506883321\n",
      "Entertainment;Education : 0.011284134506883321\n",
      "Communication;Creativity : 0.011284134506883321\n",
      "Comics;Creativity : 0.011284134506883321\n",
      "Casual;Music & Video : 0.011284134506883321\n",
      "Card;Action & Adventure : 0.011284134506883321\n",
      "Books & Reference;Education : 0.011284134506883321\n",
      "Art & Design;Pretend Play : 0.011284134506883321\n",
      "Art & Design;Action & Adventure : 0.011284134506883321\n",
      "Arcade;Pretend Play : 0.011284134506883321\n",
      "Adventure;Education : 0.011284134506883321\n"
     ]
    }
   ],
   "source": [
    "display_table(android_free, -4)"
   ]
  },
  {
   "cell_type": "code",
   "execution_count": 42,
   "id": "ca6c21ca-1241-4c35-b653-757c6613b39f",
   "metadata": {},
   "outputs": [],
   "source": [
    "ios_final = ios_free\n",
    "android_final = android_free"
   ]
  },
  {
   "cell_type": "markdown",
   "id": "63948723-13c4-41a4-ba0f-b22ff1de4cbc",
   "metadata": {},
   "source": [
    "# Most popular apps in Appstore"
   ]
  },
  {
   "cell_type": "code",
   "execution_count": 49,
   "id": "cf175f5a-958d-4fc5-8e27-77dfa6357c10",
   "metadata": {},
   "outputs": [
    {
     "name": "stdout",
     "output_type": "stream",
     "text": [
      "Social Networking 71548.34905660378\n",
      "Photo & Video 28441.54375\n",
      "Games 22788.6696905016\n",
      "Music 57326.530303030304\n",
      "Reference 74942.11111111111\n",
      "Health & Fitness 23298.015384615384\n",
      "Weather 52279.892857142855\n",
      "Utilities 18684.456790123455\n",
      "Travel 28243.8\n",
      "Shopping 26919.690476190477\n",
      "News 21248.023255813954\n",
      "Navigation 86090.33333333333\n",
      "Lifestyle 16485.764705882353\n",
      "Entertainment 14029.830708661417\n",
      "Food & Drink 33333.92307692308\n",
      "Sports 23008.898550724636\n",
      "Book 39758.5\n",
      "Finance 31467.944444444445\n",
      "Education 7003.983050847458\n",
      "Productivity 21028.410714285714\n",
      "Business 7491.117647058823\n",
      "Catalogs 4004.0\n",
      "Medical 612.0\n"
     ]
    }
   ],
   "source": [
    "iosGenre = freq_table(ios_final, 11)\n",
    "for genre in iosGenre:\n",
    "    total = 0\n",
    "    len_genre = 0\n",
    "    for entry in ios_final:\n",
    "        genre_app = entry[11]\n",
    "        if genre_app == genre:\n",
    "            userRating = float(entry[5])\n",
    "            total += userRating\n",
    "            len_genre += 1\n",
    "    avg = total/len_genre\n",
    "    print(genre, avg)\n",
    "            \n",
    "            "
   ]
  },
  {
   "cell_type": "markdown",
   "id": "441cb0e7-2e6c-40d0-9710-75cb371fbae6",
   "metadata": {},
   "source": [
    "Navigation apps have highest no. of reviews."
   ]
  },
  {
   "cell_type": "code",
   "execution_count": 47,
   "id": "669573a1-e46a-4dce-8019-d516605bd131",
   "metadata": {},
   "outputs": [
    {
     "name": "stdout",
     "output_type": "stream",
     "text": [
      "['id', 'track_name', 'size_bytes', 'currency', 'price', 'rating_count_tot', 'rating_count_ver', 'user_rating', 'user_rating_ver', 'ver', 'cont_rating', 'prime_genre', 'sup_devices.num', 'ipadSc_urls.num', 'lang.num', 'vpp_lic']\n",
      "Waze - GPS Navigation, Maps & Real-time Traffic : 345046\n",
      "Google Maps - Navigation & Transit : 154911\n",
      "Geocaching® : 12811\n",
      "CoPilot GPS – Car Navigation & Offline Maps : 3582\n",
      "ImmobilienScout24: Real Estate Search in Germany : 187\n",
      "Railway Route Search : 5\n"
     ]
    }
   ],
   "source": [
    "print(iosHeader)\n",
    "for entry in ios_final:\n",
    "    genre = entry[11]\n",
    "    if genre == \"Navigation\":\n",
    "        print(entry[1], \":\", entry[5])   "
   ]
  },
  {
   "cell_type": "markdown",
   "id": "60388fc7-82da-4614-9f9a-0eb47c739442",
   "metadata": {},
   "source": [
    "No. of ratings is highly influenced by few apps which have a large concentration of ratings while others struggle. This makes navigation seem popular than it is."
   ]
  },
  {
   "cell_type": "code",
   "execution_count": 65,
   "id": "d2867b33-3b8b-4ca9-8bfb-8eb185199a4f",
   "metadata": {},
   "outputs": [
    {
     "name": "stdout",
     "output_type": "stream",
     "text": [
      "ART_AND_DESIGN : 1905351.6666666667\n",
      "AUTO_AND_VEHICLES : 647317.8170731707\n",
      "BEAUTY : 513151.88679245283\n",
      "BOOKS_AND_REFERENCE : 8767811.894736841\n",
      "BUSINESS : 1712290.1474201474\n",
      "COMICS : 817657.2727272727\n",
      "COMMUNICATION : 38456119.167247385\n",
      "DATING : 854028.8303030303\n",
      "EDUCATION : 3082017.543859649\n",
      "ENTERTAINMENT : 21134600.0\n",
      "EVENTS : 253542.22222222222\n",
      "FINANCE : 1387692.475609756\n",
      "FOOD_AND_DRINK : 1924897.7363636363\n",
      "HEALTH_AND_FITNESS : 4188821.9853479853\n",
      "HOUSE_AND_HOME : 1313681.9054054054\n",
      "LIBRARIES_AND_DEMO : 638503.734939759\n",
      "LIFESTYLE : 1437816.2687861272\n",
      "GAME : 15837565.085714286\n",
      "FAMILY : 2691618.159021407\n",
      "MEDICAL : 120616.48717948717\n",
      "SOCIAL : 23253652.127118643\n",
      "SHOPPING : 7036877.311557789\n",
      "PHOTOGRAPHY : 17805627.643678162\n",
      "SPORTS : 3638640.1428571427\n",
      "TRAVEL_AND_LOCAL : 13984077.710144928\n",
      "TOOLS : 10695245.286096256\n",
      "PERSONALIZATION : 5201482.6122448975\n",
      "PRODUCTIVITY : 16787331.344927534\n",
      "PARENTING : 542603.6206896552\n",
      "WEATHER : 5074486.197183099\n",
      "VIDEO_PLAYERS : 24852732.40506329\n",
      "NEWS_AND_MAGAZINES : 9549178.467741935\n",
      "MAPS_AND_NAVIGATION : 4056941.7741935486\n"
     ]
    }
   ],
   "source": [
    "androidCategory = freq_table(android_final, 1)\n",
    "for category in androidCategory:\n",
    "    total = 0\n",
    "    len_category = 0\n",
    "    for entry in android_final:\n",
    "        category_app = entry[1]\n",
    "        if category_app == category:\n",
    "            installs = entry[5]\n",
    "            installs = installs.replace(\"+\",\"\")\n",
    "            installs = float(installs.replace(\",\",\"\"))\n",
    "            total+=installs\n",
    "            len_category += 1\n",
    "    avg = total/len_category\n",
    "    print(category,\":\",avg)\n",
    "            \n",
    "            "
   ]
  }
 ],
 "metadata": {
  "kernelspec": {
   "display_name": "Python 3",
   "language": "python",
   "name": "python3"
  },
  "language_info": {
   "codemirror_mode": {
    "name": "ipython",
    "version": 3
   },
   "file_extension": ".py",
   "mimetype": "text/x-python",
   "name": "python",
   "nbconvert_exporter": "python",
   "pygments_lexer": "ipython3",
   "version": "3.8.8"
  }
 },
 "nbformat": 4,
 "nbformat_minor": 5
}
